{
 "cells": [
  {
   "cell_type": "code",
   "execution_count": 1,
   "metadata": {},
   "outputs": [],
   "source": [
    "from fastai.vision.all import *\n",
    "from fastai.vision.widgets import *\n",
    "from ipywidgets import AppLayout\n",
    "from ipywidgets import HTML, Layout, Dropdown, Output, Textarea, VBox, Label"
   ]
  },
  {
   "cell_type": "code",
   "execution_count": null,
   "metadata": {},
   "outputs": [],
   "source": [
    "path = Path()\n",
    "learn_inf = load_learner(path/'sent_export.pkl', cpu=True)"
   ]
  },
  {
   "cell_type": "code",
   "execution_count": 2,
   "metadata": {},
   "outputs": [],
   "source": [
    "lbl_pred = widgets.Label()\n",
    "lbl_pred2 = widgets.Label()"
   ]
  },
  {
   "cell_type": "code",
   "execution_count": 3,
   "metadata": {},
   "outputs": [],
   "source": [
    "w = widgets.Textarea(\n",
    "    #value='Hello World',\n",
    "    placeholder='Copy/type your report into this box',\n",
    "    #description='String:',\n",
    "    disabled=False,\n",
    "    layout = Layout(height = '200px', width = '600px')    \n",
    ")"
   ]
  },
  {
   "cell_type": "code",
   "execution_count": 4,
   "metadata": {},
   "outputs": [],
   "source": [
    "btn_sent = widgets.Button(description='Positive/Negative')"
   ]
  },
  {
   "cell_type": "code",
   "execution_count": 5,
   "metadata": {},
   "outputs": [],
   "source": [
    "def on_click_sent(change):\n",
    "    data = w.value\n",
    "    pred,pred_idx,probs = data[:10], 0, {0:0, 1:0.99}    #learn_inf.predict(img)\n",
    "    lbl_pred.value = f'The summary of this report is: {pred} (with probability of {probs[pred_idx] * 100:.02f}%)'\n",
    "    #lbl_pred"
   ]
  },
  {
   "cell_type": "code",
   "execution_count": 6,
   "metadata": {},
   "outputs": [],
   "source": [
    "btn_sent.on_click(on_click_sent)"
   ]
  },
  {
   "cell_type": "code",
   "execution_count": 7,
   "metadata": {},
   "outputs": [],
   "source": [
    "btn_auth = widgets.Button(description='Who dictated it?')"
   ]
  },
  {
   "cell_type": "code",
   "execution_count": 8,
   "metadata": {},
   "outputs": [],
   "source": [
    "def on_click_auth(change):\n",
    "    data = w.value\n",
    "    pred,pred_idx,probs = data[-10:], 1, {0:0, 1:0.99}    #learn_inf.predict(img)\n",
    "    lbl_pred2.value = f'This report was dictated by: {pred} (with probability of {probs[pred_idx] * 100:.02f}%)'\n",
    "    #lbl_pred2"
   ]
  },
  {
   "cell_type": "code",
   "execution_count": 9,
   "metadata": {},
   "outputs": [],
   "source": [
    "btn_auth.on_click(on_click_auth)"
   ]
  },
  {
   "cell_type": "code",
   "execution_count": 10,
   "metadata": {},
   "outputs": [],
   "source": [
    "btn_clear = widgets.Button(description = 'try again?')"
   ]
  },
  {
   "cell_type": "code",
   "execution_count": 11,
   "metadata": {},
   "outputs": [],
   "source": [
    "def on_click_clear(change):\n",
    "    w.value = ''"
   ]
  },
  {
   "cell_type": "code",
   "execution_count": 12,
   "metadata": {},
   "outputs": [],
   "source": [
    "btn_clear.on_click(on_click_clear)"
   ]
  },
  {
   "cell_type": "code",
   "execution_count": 13,
   "metadata": {},
   "outputs": [
    {
     "data": {
      "application/vnd.jupyter.widget-view+json": {
       "model_id": "20393b7be70242b797246315b2c439d2",
       "version_major": 2,
       "version_minor": 0
      },
      "text/plain": [
       "HTML(value='<h2>CT Pulmonary Angiogram Report Classifier</h2>', layout=Layout(height='auto'))"
      ]
     },
     "metadata": {},
     "output_type": "display_data"
    },
    {
     "data": {
      "application/vnd.jupyter.widget-view+json": {
       "model_id": "b37fa6f18d5d4177b18867269e5809a2",
       "version_major": 2,
       "version_minor": 0
      },
      "text/plain": [
       "VBox(children=(Label(value='This is an NLP classifier for CT pulmonary angiogram reports.'), Label(value='It c…"
      ]
     },
     "metadata": {},
     "output_type": "display_data"
    }
   ],
   "source": [
    "header = HTML(\"<h2>CT Pulmonary Angiogram Report Classifier</h2>\", layout=Layout(height='auto'))\n",
    "#footer = HTML(prediction, layout=Layout(height='auto'))\n",
    "display(header,\n",
    "        VBox([widgets.Label('This is an NLP classifier for CT pulmonary angiogram reports.'),\n",
    "              widgets.Label('It can tell you who wrote the report and whether or not it was positive or negative.'),\n",
    "              w,\n",
    "              HBox([btn_sent, widgets.Label('Click this button to see if the report was positive or negative.   '), lbl_pred]),\n",
    "              HBox([btn_auth, widgets.Label('Click this button to see who dictated the report.   '), lbl_pred2]),\n",
    "              btn_clear]))\n",
    "              #lbl_pred]))"
   ]
  },
  {
   "cell_type": "code",
   "execution_count": null,
   "metadata": {},
   "outputs": [],
   "source": []
  },
  {
   "cell_type": "code",
   "execution_count": null,
   "metadata": {},
   "outputs": [],
   "source": []
  }
 ],
 "metadata": {
  "kernelspec": {
   "display_name": "Python 3",
   "language": "python",
   "name": "python3"
  },
  "language_info": {
   "codemirror_mode": {
    "name": "ipython",
    "version": 3
   },
   "file_extension": ".py",
   "mimetype": "text/x-python",
   "name": "python",
   "nbconvert_exporter": "python",
   "pygments_lexer": "ipython3",
   "version": "3.6.12"
  }
 },
 "nbformat": 4,
 "nbformat_minor": 4
}
